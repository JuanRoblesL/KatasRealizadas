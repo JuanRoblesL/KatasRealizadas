{
 "cells": [
  {
   "cell_type": "markdown",
   "metadata": {},
   "source": [
    "# Declaraciones if, else, elif"
   ]
  },
  {
   "cell_type": "markdown",
   "metadata": {},
   "source": [
    "### Asteroide que viaja a la tierra a 49 km/s"
   ]
  },
  {
   "cell_type": "code",
   "execution_count": 1,
   "metadata": {},
   "outputs": [
    {
     "name": "stdout",
     "output_type": "stream",
     "text": [
      "Advertencia. Asteroide aproximandose a la tierra a gran velocidad.\n"
     ]
    }
   ],
   "source": [
    "vel_ast = 49\n",
    "if vel_ast > 25:\n",
    "    print(\"Advertencia. Asteroide aproximandose a la tierra a gran velocidad.\")\n",
    "else:\n",
    "    print(\"Todo en orden.\")"
   ]
  },
  {
   "cell_type": "markdown",
   "metadata": {},
   "source": [
    "### Uso de operadores and y or"
   ]
  },
  {
   "cell_type": "code",
   "execution_count": 2,
   "metadata": {},
   "outputs": [
    {
     "name": "stdout",
     "output_type": "stream",
     "text": [
      "Suerte para la próxima.\n"
     ]
    }
   ],
   "source": [
    "vel_ast = 19\n",
    "if vel_ast >= 20:\n",
    "    print(\"Puedes ver el rayo de luz desde la tierra.\")\n",
    "else:\n",
    "    print(\"Suerte para la próxima.\")\n",
    "    "
   ]
  },
  {
   "cell_type": "markdown",
   "metadata": {},
   "source": [
    "### Ejercicio 3"
   ]
  },
  {
   "cell_type": "code",
   "execution_count": 7,
   "metadata": {},
   "outputs": [
    {
     "name": "stdout",
     "output_type": "stream",
     "text": [
      "Cuidado. Un asteroide a gran velocidad que puede causar muchos daños\n"
     ]
    }
   ],
   "source": [
    "vel_ast = 35\n",
    "tam_ast = 30\n",
    "\n",
    "if vel_ast > 25 and tam_ast > 25:\n",
    "    print(\"Cuidado. Un asteroide a gran velocidad que puede causar muchos daños\")\n",
    "elif vel_ast >= 20:\n",
    "    print(\"Puedes ver el rayo de luz desde la tierra\")\n",
    "elif tam_ast < 25:\n",
    "    print(\"Todo en orden.\")\n"
   ]
  }
 ],
 "metadata": {
  "interpreter": {
   "hash": "c06e03717a4c76b4c748bd715f8d5f0dd060c9282946c245b5f3f5032000f819"
  },
  "kernelspec": {
   "display_name": "Python 3.10.2 64-bit",
   "language": "python",
   "name": "python3"
  },
  "language_info": {
   "codemirror_mode": {
    "name": "ipython",
    "version": 3
   },
   "file_extension": ".py",
   "mimetype": "text/x-python",
   "name": "python",
   "nbconvert_exporter": "python",
   "pygments_lexer": "ipython3",
   "version": "3.10.2"
  },
  "orig_nbformat": 4
 },
 "nbformat": 4,
 "nbformat_minor": 2
}
