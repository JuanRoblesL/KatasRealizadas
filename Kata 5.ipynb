{
 "cells": [
  {
   "cell_type": "markdown",
   "metadata": {},
   "source": [
    "### EJERCICIO 1"
   ]
  },
  {
   "cell_type": "code",
   "execution_count": 1,
   "metadata": {},
   "outputs": [
    {
     "name": "stdout",
     "output_type": "stream",
     "text": [
      "Distancia en kilometros: 628949330\n",
      "Distancia en millas: 390577533.93\n"
     ]
    }
   ],
   "source": [
    "dist_tierra = 149597870\n",
    "dist_jupiter = 778547200\n",
    "\n",
    "distancia_planetas = abs(dist_tierra - dist_jupiter)\n",
    "\n",
    "print(\"Distancia en kilometros: \" + str(distancia_planetas))\n",
    "\n",
    "print(\"Distancia en millas: \" + str(distancia_planetas*0.621))"
   ]
  },
  {
   "cell_type": "markdown",
   "metadata": {},
   "source": [
    "### EJERCICIO 2"
   ]
  },
  {
   "cell_type": "code",
   "execution_count": 2,
   "metadata": {},
   "outputs": [
    {
     "name": "stdout",
     "output_type": "stream",
     "text": [
      "Distancia en km: 470000\n",
      "Distancia en millas: 291870.0\n"
     ]
    }
   ],
   "source": [
    "dist_paneta1 = int(input(\"Distancia del primer planeta: \"))\n",
    "dist_paneta2 = int(input(\"Distancia del segundo planeta: \"))\n",
    "\n",
    "distancia_planetas_km = abs(dist_paneta2 - dist_paneta1)\n",
    "print(\"Distancia en km: \" + str(distancia_planetas_km))\n",
    "\n",
    "distancia_planetas_ml = distancia_planetas_km * 0.621\n",
    "print(\"Distancia en millas: \" + str(distancia_planetas_ml))"
   ]
  }
 ],
 "metadata": {
  "interpreter": {
   "hash": "c06e03717a4c76b4c748bd715f8d5f0dd060c9282946c245b5f3f5032000f819"
  },
  "kernelspec": {
   "display_name": "Python 3.10.2 64-bit",
   "language": "python",
   "name": "python3"
  },
  "language_info": {
   "codemirror_mode": {
    "name": "ipython",
    "version": 3
   },
   "file_extension": ".py",
   "mimetype": "text/x-python",
   "name": "python",
   "nbconvert_exporter": "python",
   "pygments_lexer": "ipython3",
   "version": "3.10.2"
  },
  "orig_nbformat": 4
 },
 "nbformat": 4,
 "nbformat_minor": 2
}
