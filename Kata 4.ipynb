{
 "cells": [
  {
   "cell_type": "markdown",
   "metadata": {},
   "source": []
  },
  {
   "cell_type": "code",
   "execution_count": 26,
   "metadata": {},
   "outputs": [
    {
     "name": "stdout",
     "output_type": "stream",
     "text": [
      "On average, the Moon moves 4cm away from the Earth every year\n",
      "The highest daylight temperature of the Moon is 127 Celsius.\n"
     ]
    }
   ],
   "source": [
    "text = \"\"\"Interesting facts about the Moon. The Moon is Earth's only satellite. There are several interesting facts about the Moon and how it affects life here on Earth. On average, the Moon moves 4cm away from the Earth every year. This yearly drift is not significant enough to cause immediate effects on Earth. The highest daylight temperature of the Moon is 127 C.\"\"\"\n",
    "\n",
    "oraciones = text.split('. ')\n",
    "\n",
    "palabras_clave = ['distance', 'average', 'temperature']\n",
    "\n",
    "for oracion in oraciones:\n",
    "        \n",
    "        oracion = oracion.replace('C', 'Celsius')\n",
    "\n",
    "        for palabra in palabras_clave:\n",
    "                if palabra in oracion:\n",
    "                        print(oracion)\n",
    "                else:\n",
    "                        continue\n",
    "\n",
    "\n",
    "\n",
    "\n",
    "\n"
   ]
  },
  {
   "cell_type": "markdown",
   "metadata": {},
   "source": []
  },
  {
   "cell_type": "code",
   "execution_count": null,
   "metadata": {},
   "outputs": [],
   "source": [
    "name = \"Luna\"\n",
    "gravity = 0.00162\n",
    "planet = \"Tierra\"\n",
    "\n",
    "titulo = f'Datos de gravedad sobre: {name}'\n",
    "\n",
    "hechos = f\"\"\"{'-'*50}\n",
    "Nombre del planeta: {planet}\n",
    "Gravedad en: {name}: {gravity * 1000} m/s2\"\"\"\n",
    "\n",
    "plantilla = f\"\"\"{titulo.title()}\n",
    "{hechos}\"\"\"\n",
    "\n",
    "print(plantilla)"
   ]
  },
  {
   "cell_type": "code",
   "execution_count": null,
   "metadata": {},
   "outputs": [],
   "source": [
    "planet = 'Marte '\n",
    "gravity  = 0.00143\n",
    "name = 'Ganímedes'\n",
    "\n",
    "plantilla = \"\"\"\n",
    "Datos de gravedad sobre: {name}\n",
    "---------------------------------\n",
    "Nombre del planeta: {planet}\n",
    "Gravedad en {name}: {gravity} m/s2\"\"\"\n",
    "\n",
    "print(plantilla.format(name = name, gravity = gravity * 1000, planet = planet))"
   ]
  }
 ],
 "metadata": {
  "interpreter": {
   "hash": "c06e03717a4c76b4c748bd715f8d5f0dd060c9282946c245b5f3f5032000f819"
  },
  "kernelspec": {
   "display_name": "Python 3.10.2 64-bit",
   "language": "python",
   "name": "python3"
  },
  "language_info": {
   "codemirror_mode": {
    "name": "ipython",
    "version": 3
   },
   "file_extension": ".py",
   "mimetype": "text/x-python",
   "name": "python",
   "nbconvert_exporter": "python",
   "pygments_lexer": "ipython3",
   "version": "3.10.2"
  },
  "orig_nbformat": 4
 },
 "nbformat": 4,
 "nbformat_minor": 2
}
