{
 "cells": [
  {
   "cell_type": "markdown",
   "metadata": {},
   "source": [
    "### EJERCICIO 1"
   ]
  },
  {
   "cell_type": "code",
   "execution_count": 1,
   "metadata": {},
   "outputs": [
    {
     "name": "stdout",
     "output_type": "stream",
     "text": [
      "Hay  8  planetas en el sistema solar, estos son:  ['Mercurio', 'Venus', 'Tierra', 'Marte', 'Jupiter', 'Saturno', 'Urano', 'Neptuno']\n",
      "Cambio de opinión, ahora hay  9  por poco olvidabamos a  Plutón\n"
     ]
    }
   ],
   "source": [
    "planetas = ['Mercurio', 'Venus', 'Tierra', 'Marte', 'Jupiter', 'Saturno', 'Urano', 'Neptuno']\n",
    "\n",
    "print(\"Hay \",len(planetas), \" planetas en el sistema solar, estos son: \", planetas)\n",
    "\n",
    "planetas.append('Plutón')\n",
    "\n",
    "print(\"Cambio de opinión, ahora hay \", len(planetas), \" por poco olvidabamos a \", planetas[len(planetas)-1])"
   ]
  },
  {
   "cell_type": "markdown",
   "metadata": {},
   "source": [
    "### EJERCICIO 2"
   ]
  },
  {
   "cell_type": "code",
   "execution_count": 2,
   "metadata": {},
   "outputs": [
    {
     "name": "stdout",
     "output_type": "stream",
     "text": [
      "Los planetas más cercanos al sol antes de  Marte  son:  ['Mercurio', 'Venus', 'Tierra']\n",
      "Los planetas más alejados al sol despúes de  Marte  son:  ['Jupiter', 'Saturno', 'Urano', 'Neptuno']\n"
     ]
    }
   ],
   "source": [
    "planetas = ['Mercurio', 'Venus', 'Tierra', 'Marte', 'Jupiter', 'Saturno', 'Urano', 'Neptuno']\n",
    "\n",
    "planeta_referencia = input(\"Introduzca el nombre de un planeta (Escriba la primera letra en mayúscula): \")\n",
    "\n",
    "planeta_index = planetas.index(planeta_referencia)\n",
    "\n",
    "planetas_cercanos = planetas[0:planeta_index]\n",
    "planetas_lejanos = planetas[(planeta_index+1):]\n",
    "\n",
    "print(\"Los planetas más cercanos al sol antes de \", planeta_referencia, \" son: \", planetas_cercanos)\n",
    "print(\"Los planetas más alejados al sol despúes de \", planeta_referencia, \" son: \", planetas_lejanos)\n"
   ]
  }
 ],
 "metadata": {
  "interpreter": {
   "hash": "c06e03717a4c76b4c748bd715f8d5f0dd060c9282946c245b5f3f5032000f819"
  },
  "kernelspec": {
   "display_name": "Python 3.10.2 64-bit",
   "language": "python",
   "name": "python3"
  },
  "language_info": {
   "codemirror_mode": {
    "name": "ipython",
    "version": 3
   },
   "file_extension": ".py",
   "mimetype": "text/x-python",
   "name": "python",
   "nbconvert_exporter": "python",
   "pygments_lexer": "ipython3",
   "version": "3.10.2"
  },
  "orig_nbformat": 4
 },
 "nbformat": 4,
 "nbformat_minor": 2
}
