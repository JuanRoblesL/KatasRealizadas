{
 "cells": [
  {
   "cell_type": "markdown",
   "metadata": {},
   "source": [
    "### EJERCICIO 1 y EJERCICIO 2"
   ]
  },
  {
   "cell_type": "code",
   "execution_count": 6,
   "metadata": {},
   "outputs": [
    {
     "name": "stdout",
     "output_type": "stream",
     "text": [
      "A continuación se te pedirá el nombre de un planeta para\n",
      "añadirlo a una lista.\n",
      "Una vez hayas terminado tu lista escribe 'done' para acabar.\n",
      "Marte\n",
      "Tierra\n",
      "Saturno\n",
      "Urano\n",
      "Neptuno\n"
     ]
    }
   ],
   "source": [
    "print(\"A continuación se te pedirá el nombre de un planeta para\\nañadirlo a una lista.\\nUna vez hayas terminado tu lista escribe 'done' para acabar.\")\n",
    "\n",
    "planets = []\n",
    "new_planet = ''\n",
    "\n",
    "while new_planet.lower() != 'done':\n",
    "    if new_planet:\n",
    "        planets.append(new_planet)\n",
    "    new_planet = input(\"Introduce el nombre de un planeta: \")\n",
    "\n",
    "for planet in planets:\n",
    "    print(planet)\n",
    "    "
   ]
  }
 ],
 "metadata": {
  "interpreter": {
   "hash": "c06e03717a4c76b4c748bd715f8d5f0dd060c9282946c245b5f3f5032000f819"
  },
  "kernelspec": {
   "display_name": "Python 3.10.2 64-bit",
   "language": "python",
   "name": "python3"
  },
  "language_info": {
   "codemirror_mode": {
    "name": "ipython",
    "version": 3
   },
   "file_extension": ".py",
   "mimetype": "text/x-python",
   "name": "python",
   "nbconvert_exporter": "python",
   "pygments_lexer": "ipython3",
   "version": "3.10.2"
  },
  "orig_nbformat": 4
 },
 "nbformat": 4,
 "nbformat_minor": 2
}
